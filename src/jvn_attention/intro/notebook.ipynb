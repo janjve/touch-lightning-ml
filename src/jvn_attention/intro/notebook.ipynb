{
 "cells": [
  {
   "cell_type": "code",
   "execution_count": 7,
   "metadata": {},
   "outputs": [],
   "source": [
    "import time\n",
    "\n",
    "import numpy as np\n",
    "import torch\n",
    "import torch.nn as nn\n",
    "import torch.utils.data as data\n",
    "\n",
    "from torch import Tensor\n",
    "from tqdm.notebook import tqdm  # Progress bar"
   ]
  },
  {
   "cell_type": "code",
   "execution_count": 3,
   "metadata": {},
   "outputs": [
    {
     "name": "stdout",
     "output_type": "stream",
     "text": [
      "1.13.0+cu117\n"
     ]
    }
   ],
   "source": [
    "print(torch.__version__)"
   ]
  },
  {
   "cell_type": "code",
   "execution_count": 10,
   "metadata": {},
   "outputs": [
    {
     "data": {
      "text/plain": [
       "<torch._C.Generator at 0x7ff5ac04e2d0>"
      ]
     },
     "execution_count": 10,
     "metadata": {},
     "output_type": "execute_result"
    }
   ],
   "source": [
    "torch.manual_seed(42)"
   ]
  },
  {
   "cell_type": "code",
   "execution_count": 13,
   "metadata": {},
   "outputs": [
    {
     "name": "stdout",
     "output_type": "stream",
     "text": [
      "tensor([[1., 2.],\n",
      "        [3., 4.]])\n"
     ]
    }
   ],
   "source": [
    "x = Tensor([[1,2], [3,4]])\n",
    "print(x)"
   ]
  },
  {
   "cell_type": "code",
   "execution_count": 17,
   "metadata": {},
   "outputs": [
    {
     "name": "stdout",
     "output_type": "stream",
     "text": [
      "tensor([[[ 2.0074e-35,  0.0000e+00, -6.4724e-04,  4.5902e-41],\n",
      "         [ 8.9683e-44,  0.0000e+00,  1.1210e-43,  0.0000e+00],\n",
      "         [ 1.9631e-35,  0.0000e+00,  7.7071e-44,  6.4460e-44]],\n",
      "\n",
      "        [[ 6.8664e-44,  7.5670e-44,  7.5670e-44,  1.2612e-43],\n",
      "         [ 1.5695e-43,  0.0000e+00,  1.5695e-43,  0.0000e+00],\n",
      "         [ 1.9759e-35,  0.0000e+00,  8.9683e-44,  0.0000e+00]]])\n"
     ]
    }
   ],
   "source": [
    "x = Tensor(2,3,4)  # rank 3 tensor with dim 2,3,4\n",
    "print(x)"
   ]
  },
  {
   "cell_type": "code",
   "execution_count": 19,
   "metadata": {},
   "outputs": [
    {
     "name": "stdout",
     "output_type": "stream",
     "text": [
      "x.shape=torch.Size([2, 3, 4])\n",
      "x.size()=torch.Size([2, 3, 4])\n",
      "dim1=2 dim2=3 dim3=4\n"
     ]
    }
   ],
   "source": [
    "print(f\"{x.shape=}\")\n",
    "\n",
    "print(f\"{x.size()=}\")\n",
    "\n",
    "dim1, dim2, dim3 = x.size()\n",
    "print(f\"{dim1=} {dim2=} {dim3=}\")"
   ]
  },
  {
   "cell_type": "code",
   "execution_count": 21,
   "metadata": {},
   "outputs": [
    {
     "data": {
      "text/plain": [
       "(tensor([[1.1360, 1.1952, 1.0107],\n",
       "         [0.8708, 1.1824, 1.4056]]),\n",
       " tensor([[0.2666, 0.6274, 0.2696],\n",
       "         [0.4414, 0.2969, 0.8317]]),\n",
       " tensor([[1.1360, 1.1952, 1.0107],\n",
       "         [0.8708, 1.1824, 1.4056]]))"
      ]
     },
     "execution_count": 21,
     "metadata": {},
     "output_type": "execute_result"
    }
   ],
   "source": [
    "x1 = torch.rand(2,3)\n",
    "x2 = torch.rand(2,3)\n",
    "\n",
    "x3 = x1 + x2  # return\n",
    "x1.add_(x2)  # update x1 inplace.. in general _ suffix is inplace operations\n",
    "x1, x2, x3"
   ]
  },
  {
   "cell_type": "code",
   "execution_count": 28,
   "metadata": {},
   "outputs": [
    {
     "name": "stdout",
     "output_type": "stream",
     "text": [
      "tensor([0, 1, 2, 3, 4, 5, 6, 7, 8, 9])\n",
      "tensor([[0, 1, 2, 3, 4],\n",
      "        [5, 6, 7, 8, 9]])\n",
      "tensor([[0, 5],\n",
      "        [1, 6],\n",
      "        [2, 7],\n",
      "        [3, 8],\n",
      "        [4, 9]])\n"
     ]
    }
   ],
   "source": [
    "x = torch.arange(10)\n",
    "print(x)\n",
    "x = x.view(2,5)  # same as reshape\n",
    "print(x)\n",
    "x = x.permute(1,0)  # swap dimension 0 and 1 (same as x.T in this case)\n",
    "print(x)"
   ]
  },
  {
   "cell_type": "code",
   "execution_count": null,
   "metadata": {},
   "outputs": [],
   "source": []
  }
 ],
 "metadata": {
  "kernelspec": {
   "display_name": "Python 3 (ipykernel)",
   "language": "python",
   "name": "python3"
  },
  "orig_nbformat": 4
 },
 "nbformat": 4,
 "nbformat_minor": 2
}
